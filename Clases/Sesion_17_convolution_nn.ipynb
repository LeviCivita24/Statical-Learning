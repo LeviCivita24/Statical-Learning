{
 "cells": [
  {
   "cell_type": "markdown",
   "metadata": {},
   "source": [
    "<a href=\"https://colab.research.google.com/github/hernansalinas/Curso_aprendizaje_estadistico/blob/main/Sesiones/Sesion_17_convolution_nn.ipynb\" target=\"_parent\"><img src=\"https://colab.research.google.com/assets/colab-badge.svg\" alt=\"Open In Colab\"/></a>"
   ]
  },
  {
   "cell_type": "code",
   "execution_count": null,
   "metadata": {
    "executionInfo": {
     "elapsed": 879,
     "status": "ok",
     "timestamp": 1698847662446,
     "user": {
      "displayName": "HERNAN DAVID SALINAS JIMENEZ",
      "userId": "00408651407692255291"
     },
     "user_tz": 300
    },
    "id": "q73tziXLvV_d"
   },
   "outputs": [],
   "source": [
    "import numpy as np\n",
    "import matplotlib.pylab as plt\n",
    "import sympy as sp\n",
    "import scipy as sc\n",
    "#import tensorflow as tf\n",
    "#https://setosa.io/ev/image-kernels/"
   ]
  },
  {
   "cell_type": "code",
   "execution_count": 4,
   "metadata": {
    "colab": {
     "base_uri": "https://localhost:8080/"
    },
    "executionInfo": {
     "elapsed": 7,
     "status": "ok",
     "timestamp": 1698847662447,
     "user": {
      "displayName": "HERNAN DAVID SALINAS JIMENEZ",
      "userId": "00408651407692255291"
     },
     "user_tz": 300
    },
    "id": "htPgtOKehAZb",
    "outputId": "db60b5e0-bad7-4038-fc5f-caf541393290"
   },
   "outputs": [
    {
     "data": {
      "text/plain": [
       "0"
      ]
     },
     "execution_count": 4,
     "metadata": {},
     "output_type": "execute_result"
    }
   ],
   "source": [
    "12*1+2*1*1+12*-1+-1+-1"
   ]
  },
  {
   "cell_type": "markdown",
   "metadata": {
    "id": "OuUlVnPNz_pZ"
   },
   "source": [
    "# Convolución\n",
    "![convolucion](https://github.com/hernansalinas/Curso_aprendizaje_estadistico/blob/main/Sesiones/convolution_img/convolution.png?raw=true)\n",
    "\n",
    "\n",
    "\n",
    "\n",
    "1. Dada una imagen  :\n",
    "\n",
    "```\n",
    "M = array([[10, 10, 10,  0,  0,  0],\n",
    "       [10, 10, 10,  0,  0,  0],\n",
    "       [10, 10, 10,  0,  0,  0],\n",
    "       [10, 10, 10,  0,  0,  0],\n",
    "       [10, 10, 10,  0,  0,  0],\n",
    "       [10, 10, 10,  0,  0,  0]])\n",
    "```\n",
    "Apliquemos un filtro\n",
    "```\n",
    "filter = array([[ 1,  0, -1],\n",
    "       [ 1,  0, -1],\n",
    "       [ 1,  0, -1]])\n",
    "```\n",
    "\n",
    "Y construyamos la operacion de convolucion\n",
    "\n",
    "Results = M * Filter\n",
    "\n",
    "```\n",
    "Results = array([[ 0, 30, 30,  0],\n",
    "       [ 0, 30, 30,  0],\n",
    "       [ 0, 30, 30,  0],\n",
    "       [ 0, 30, 30,  0]])\n",
    "  ```\n"
   ]
  },
  {
   "cell_type": "code",
   "execution_count": 9,
   "metadata": {
    "colab": {
     "base_uri": "https://localhost:8080/",
     "height": 467
    },
    "executionInfo": {
     "elapsed": 493,
     "status": "ok",
     "timestamp": 1698847747308,
     "user": {
      "displayName": "HERNAN DAVID SALINAS JIMENEZ",
      "userId": "00408651407692255291"
     },
     "user_tz": 300
    },
    "id": "uSdutD2Fv0Kt",
    "outputId": "80bdccda-07e4-45d6-b1d2-c2ad1fd1b9b0"
   },
   "outputs": [
    {
     "data": {
      "text/plain": [
       "<matplotlib.image.AxesImage at 0x7b962ae890f0>"
      ]
     },
     "execution_count": 9,
     "metadata": {},
     "output_type": "execute_result"
    },
    {
     "data": {
      "image/png": "[encoded data removed]",
      "text/plain": [
       "<Figure size 640x480 with 1 Axes>"
      ]
     },
     "metadata": {},
     "output_type": "display_data"
    }
   ],
   "source": [
    "#Construyamos una imagen de negros y blancos\n",
    "V = np.array([10,10,10,0,0,0])\n",
    "Img = np.tile(V,6).reshape(6,6)\n",
    "Img\n",
    "plt.imshow(Img, cmap=\"gray\")"
   ]
  },
  {
   "cell_type": "markdown",
   "metadata": {
    "id": "_XB7DC6318Kq"
   },
   "source": [
    " Detectemos los bordes con un filtro vertical\n",
    "```\n",
    "A = [[ 1  0 -1]\n",
    " [ 1  0 -1]\n",
    " [ 1  0 -1]]\n",
    " ```"
   ]
  },
  {
   "cell_type": "code",
   "execution_count": 13,
   "metadata": {
    "colab": {
     "base_uri": "https://localhost:8080/",
     "height": 522
    },
    "executionInfo": {
     "elapsed": 324,
     "status": "ok",
     "timestamp": 1698848327513,
     "user": {
      "displayName": "HERNAN DAVID SALINAS JIMENEZ",
      "userId": "00408651407692255291"
     },
     "user_tz": 300
    },
    "id": "T3YJpMwrwAZb",
    "outputId": "a67e3af3-4f1c-40a2-a12b-68f492fc8d1d"
   },
   "outputs": [
    {
     "name": "stdout",
     "output_type": "stream",
     "text": [
      "[[ 1  0 -1]\n",
      " [ 1  0 -1]\n",
      " [ 1  0 -1]]\n"
     ]
    },
    {
     "data": {
      "text/plain": [
       "<matplotlib.image.AxesImage at 0x7b962ac8e440>"
      ]
     },
     "execution_count": 13,
     "metadata": {},
     "output_type": "execute_result"
    },
    {
     "data": {
      "image/png": "[encoded data removed]",
      "text/plain": [
       "<Figure size 640x480 with 1 Axes>"
      ]
     },
     "metadata": {},
     "output_type": "display_data"
    }
   ],
   "source": [
    "F = np.array([1,0,-1])\n",
    "filter = np.tile(F,3).reshape(3,3)\n",
    "print(filter)\n",
    "plt.imshow(filter, cmap=\"gray\")\n"
   ]
  },
  {
   "cell_type": "markdown",
   "metadata": {
    "id": "SrvvKLx21OZq"
   },
   "source": [
    "La operación de convolución, permite construir una nueva matrix en la que se puede indentificar los bordes."
   ]
  },
  {
   "cell_type": "code",
   "execution_count": 12,
   "metadata": {
    "colab": {
     "base_uri": "https://localhost:8080/",
     "height": 456
    },
    "executionInfo": {
     "elapsed": 822,
     "status": "ok",
     "timestamp": 1698848169382,
     "user": {
      "displayName": "HERNAN DAVID SALINAS JIMENEZ",
      "userId": "00408651407692255291"
     },
     "user_tz": 300
    },
    "id": "cN2RZg6tylFL",
    "outputId": "59e829b2-d131-4675-e46f-730f4ac56321"
   },
   "outputs": [
    {
     "data": {
      "image/png": "[encoded data removed]",
      "text/plain": [
       "<Figure size 640x480 with 1 Axes>"
      ]
     },
     "metadata": {},
     "output_type": "display_data"
    }
   ],
   "source": [
    "from scipy import signal\n",
    "#new_img = np.convolve(Img, filter)\n",
    "new_img = signal.convolve2d(Img, filter,mode=\"valid\")\n",
    "\n",
    "abs(new_img)\n",
    "plt.figure()\n",
    "plt.imshow(abs(new_img), cmap=\"gray\")\n",
    "plt.show()\n"
   ]
  },
  {
   "cell_type": "code",
   "execution_count": null,
   "metadata": {
    "id": "uQp3XX-gQjrm"
   },
   "outputs": [],
   "source": []
  },
  {
   "cell_type": "code",
   "execution_count": 14,
   "metadata": {
    "colab": {
     "base_uri": "https://localhost:8080/"
    },
    "executionInfo": {
     "elapsed": 5,
     "status": "ok",
     "timestamp": 1698848426660,
     "user": {
      "displayName": "HERNAN DAVID SALINAS JIMENEZ",
      "userId": "00408651407692255291"
     },
     "user_tz": 300
    },
    "id": "qsxtLd5QQbP7",
    "outputId": "c75e98fb-3918-4efd-9e6a-a269c398734f"
   },
   "outputs": [
    {
     "data": {
      "text/plain": [
       "array([[  0, -30, -30,   0],\n",
       "       [  0, -30, -30,   0],\n",
       "       [  0, -30, -30,   0],\n",
       "       [  0, -30, -30,   0]])"
      ]
     },
     "execution_count": 14,
     "metadata": {},
     "output_type": "execute_result"
    }
   ],
   "source": [
    "new_img"
   ]
  },
  {
   "cell_type": "code",
   "execution_count": null,
   "metadata": {
    "id": "u9F8XHIU8utQ"
   },
   "outputs": [],
   "source": [
    "# in_img  = tf.constant(Img)\n",
    "# filter_img  = tf.constant(filter)\n",
    "# tf.nn.conv2d(in_img, filter_img,padding='VALID')"
   ]
  },
  {
   "cell_type": "markdown",
   "metadata": {
    "id": "K-6CqoH62R6f"
   },
   "source": [
    "Apliquemos un filtro horizontal"
   ]
  },
  {
   "cell_type": "code",
   "execution_count": null,
   "metadata": {
    "colab": {
     "base_uri": "https://localhost:8080/",
     "height": 283
    },
    "executionInfo": {
     "elapsed": 480,
     "status": "ok",
     "timestamp": 1664901838853,
     "user": {
      "displayName": "HERNAN DAVID SALINAS JIMENEZ",
      "userId": "00408651407692255291"
     },
     "user_tz": 300
    },
    "id": "c50S7IR92xj0",
    "outputId": "988337c0-95d4-4c7f-ce83-37e7e56dcb5e"
   },
   "outputs": [
    {
     "data": {
      "text/plain": [
       "<matplotlib.image.AxesImage at 0x7f9d19453890>"
      ]
     },
     "execution_count": 106,
     "metadata": {},
     "output_type": "execute_result"
    },
    {
     "data": {
      "image/png": "[encoded data removed]",
      "text/plain": [
       "<Figure size 432x288 with 1 Axes>"
      ]
     },
     "metadata": {
      "needs_background": "light"
     },
     "output_type": "display_data"
    }
   ],
   "source": [
    "M = np.array([[10, 10, 10,  0,  0,  0],\n",
    "       [10, 10, 10,  0,  0,  0],\n",
    "       [10, 10, 10,  0,  0,  0],\n",
    "       [0, 0, 0,  10,  10,  10],\n",
    "       [0, 0, 0,  10,  10,  10],\n",
    "       [0, 0, 0,  10,  10,  10]])\n",
    "\n",
    "plt.imshow(M, cmap=\"gray\")"
   ]
  },
  {
   "cell_type": "code",
   "execution_count": null,
   "metadata": {
    "colab": {
     "base_uri": "https://localhost:8080/",
     "height": 139
    },
    "executionInfo": {
     "elapsed": 219,
     "status": "ok",
     "timestamp": 1664901846674,
     "user": {
      "displayName": "HERNAN DAVID SALINAS JIMENEZ",
      "userId": "00408651407692255291"
     },
     "user_tz": 300
    },
    "id": "0PUsaBF44By_",
    "outputId": "2e0d1712-8ddf-4282-eebb-1306e63edbe2"
   },
   "outputs": [
    {
     "data": {
      "text/latex": [
       "$\\displaystyle \\left[\\begin{matrix}10 & 10 & 10 & 0 & 0 & 0\\\\10 & 10 & 10 & 0 & 0 & 0\\\\10 & 10 & 10 & 0 & 0 & 0\\\\0 & 0 & 0 & 10 & 10 & 10\\\\0 & 0 & 0 & 10 & 10 & 10\\\\0 & 0 & 0 & 10 & 10 & 10\\end{matrix}\\right]$"
      ],
      "text/plain": [
       "Matrix([\n",
       "[10, 10, 10,  0,  0,  0],\n",
       "[10, 10, 10,  0,  0,  0],\n",
       "[10, 10, 10,  0,  0,  0],\n",
       "[ 0,  0,  0, 10, 10, 10],\n",
       "[ 0,  0,  0, 10, 10, 10],\n",
       "[ 0,  0,  0, 10, 10, 10]])"
      ]
     },
     "execution_count": 108,
     "metadata": {},
     "output_type": "execute_result"
    }
   ],
   "source": [
    "sp.Matrix(M)"
   ]
  },
  {
   "cell_type": "code",
   "execution_count": null,
   "metadata": {
    "colab": {
     "base_uri": "https://localhost:8080/",
     "height": 330
    },
    "executionInfo": {
     "elapsed": 580,
     "status": "ok",
     "timestamp": 1664901860278,
     "user": {
      "displayName": "HERNAN DAVID SALINAS JIMENEZ",
      "userId": "00408651407692255291"
     },
     "user_tz": 300
    },
    "id": "wpwREuWXzg56",
    "outputId": "655441b7-12f6-4f9c-ffe9-b1aebc9a608d"
   },
   "outputs": [
    {
     "data": {
      "text/latex": [
       "$\\displaystyle \\left[\\begin{matrix}1 & 1 & 1\\\\0 & 0 & 0\\\\-1 & -1 & -1\\end{matrix}\\right]$"
      ],
      "text/plain": [
       "Matrix([\n",
       "[ 1,  1,  1],\n",
       "[ 0,  0,  0],\n",
       "[-1, -1, -1]])"
      ]
     },
     "execution_count": 109,
     "metadata": {},
     "output_type": "execute_result"
    },
    {
     "data": {
      "image/png": "[encoded data removed]",
      "text/plain": [
       "<Figure size 432x288 with 1 Axes>"
      ]
     },
     "metadata": {
      "needs_background": "light"
     },
     "output_type": "display_data"
    }
   ],
   "source": [
    "F = np.array([1,0,-1])\n",
    "filter = np.tile(F,3).reshape(3,3)\n",
    "filter=filter.T\n",
    "#print(filter)\n",
    "plt.imshow(filter, cmap=\"gray\")\n",
    "sp.Matrix(filter)"
   ]
  },
  {
   "cell_type": "code",
   "execution_count": null,
   "metadata": {
    "colab": {
     "base_uri": "https://localhost:8080/",
     "height": 423
    },
    "executionInfo": {
     "elapsed": 543,
     "status": "ok",
     "timestamp": 1664902006457,
     "user": {
      "displayName": "HERNAN DAVID SALINAS JIMENEZ",
      "userId": "00408651407692255291"
     },
     "user_tz": 300
    },
    "id": "3FcDqRHD2saC",
    "outputId": "803ffab0-2dad-4d8b-dc9c-06bac9ddfa04"
   },
   "outputs": [
    {
     "name": "stdout",
     "output_type": "stream",
     "text": [
      "[[  0   0   0   0]\n",
      " [-30 -10  10  30]\n",
      " [-30 -10  10  30]\n",
      " [  0   0   0   0]]\n"
     ]
    },
    {
     "data": {
      "image/png": "[encoded data removed]",
      "text/plain": [
       "<Figure size 432x288 with 1 Axes>"
      ]
     },
     "metadata": {
      "needs_background": "light"
     },
     "output_type": "display_data"
    },
    {
     "data": {
      "text/latex": [
       "$\\displaystyle \\left[\\begin{matrix}0 & 0 & 0 & 0\\\\30 & 10 & -10 & -30\\\\30 & 10 & -10 & -30\\\\0 & 0 & 0 & 0\\end{matrix}\\right]$"
      ],
      "text/plain": [
       "Matrix([\n",
       "[ 0,  0,   0,   0],\n",
       "[30, 10, -10, -30],\n",
       "[30, 10, -10, -30],\n",
       "[ 0,  0,   0,   0]])"
      ]
     },
     "execution_count": 116,
     "metadata": {},
     "output_type": "execute_result"
    }
   ],
   "source": [
    "new_img = signal.convolve2d(M,filter,mode=\"valid\")\n",
    "print(new_img)\n",
    "plt.figure()\n",
    "plt.imshow(-new_img, cmap=\"gray\")\n",
    "plt.show()\n",
    "sp.Matrix(-new_img)\n"
   ]
  },
  {
   "cell_type": "markdown",
   "metadata": {
    "id": "yOMggi3U5bcX"
   },
   "source": [
    "Existen otro tipo de filtros que pueden ser empleados.\n",
    "\n",
    "- [Sobel filter](https://en.wikipedia.org/wiki/Sobel_operator)\n",
    "  ```\n",
    "  filter = array([[ 1,  0, -1],\n",
    "       [ 2,  0, -2],\n",
    "       [ 1,  0, -1]])\n",
    "```\n",
    "- Scharr Filter\n",
    "```\n",
    "filter = array([[ 3,  0, -3],\n",
    "       [ 10,  0, -10],\n",
    "       [ 3,  0, -3]])\n",
    "```"
   ]
  },
  {
   "cell_type": "markdown",
   "metadata": {
    "id": "3X8sNi5o6QQx"
   },
   "source": [
    "¿Cómo elegir los parametros del filtro para detectar otro tipo de bordes?\n",
    "```\n",
    "filter = array([[ w1,  w2, w3],\n",
    "     [ w4,  w5, w6],\n",
    "     [ w7,  w8, w9]])\n",
    "```"
   ]
  },
  {
   "cell_type": "markdown",
   "metadata": {
    "id": "4RFsi-oF8HQZ"
   },
   "source": [
    "# Padding\n",
    "\n",
    "El padding permite que la imagen resultante, sea del mismo tamaño que la original. Dada una matrix $n \\times n$ asociada a una imagen y aplicada un filtro de rango $f\\times f$ la operación después de la convolución es de rango $(n-f+1) \\times (n-f+1)$.\n",
    "\n",
    "Para garantizar que se tenga una imagen con el mismo tamaño de la original se aplica el padding\n",
    "\n",
    "\n",
    "\n",
    "Para un padding de 1,tenemos entonces la siguientes dimensiones:\n",
    "\n",
    "###  input = (n)x(n)\n",
    "\n",
    "\n",
    "![input](https://github.com/hernansalinas/Curso_aprendizaje_estadistico/blob/main/Sesiones/convolution_img/input.png?raw=true)\n",
    "\n",
    "\n",
    "### filter = fxf\n",
    "\n",
    "![filter](https://github.com/hernansalinas/Curso_aprendizaje_estadistico/blob/main/Sesiones/convolution_img/filter.png?raw=true)\n",
    "\n",
    "\n",
    "\n",
    "###  Output = (n-f+1)x(n-f+1)\n",
    "\n",
    "\n",
    "![Output](https://github.com/hernansalinas/Curso_aprendizaje_estadistico/blob/main/Sesiones/convolution_img/output.png?raw=true)\n",
    "\n",
    "--------------------------------------------------------------\n",
    "\n",
    " ### input con padding = (n+2p)x(n+2p)\n",
    "![padding](https://github.com/hernansalinas/Curso_aprendizaje_estadistico/blob/main/Sesiones/convolution_img/padding.png?raw=true)\n",
    "\n",
    "\n",
    "\n",
    "### filter = fxf\n",
    "\n",
    "![filter](https://github.com/hernansalinas/Curso_aprendizaje_estadistico/blob/main/Sesiones/convolution_img/filter.png?raw=true)\n",
    "\n",
    "\n",
    "###  Output = (n+2p-f+1)x(n+2p-f+1)\n",
    "\n",
    "\n",
    "\n",
    "\n",
    "## Valid Padding\n",
    "\n",
    "  - nxn * fxf ---> n-f+1\n",
    "\n",
    "## Same Padding\n",
    "The output size is the same that the input size\n",
    "\n",
    "- n+2pxn+2p * fxf ---> n-f+1+2p x n-f+1+2p\n"
   ]
  },
  {
   "cell_type": "markdown",
   "metadata": {
    "id": "MyQ8h-JVJMLc"
   },
   "source": [
    "# Stride\n",
    "\n",
    "Salto entre valores de la imagen para hacer la convolución, en la siguiente imagen se muestra un stride de s=2.\n",
    "\n",
    "Input : 6x6 = nxn\n",
    "\n",
    "Filter : 3x3 = fxf\n",
    "\n",
    "Results = Input * Filter\n",
    "\n",
    "Results: (6-3)/2--->2x2\n",
    "\n",
    "$\\left[ \\frac{n+2*p-f}{s}+1 \\right] \\times \\left[ \\frac{n+2*p-f}{s}+1 \\right]$\n",
    "\n",
    "[] operation floor\n",
    "\n",
    "\n",
    "![stride](https://github.com/hernansalinas/Curso_aprendizaje_estadistico/blob/main/Sesiones/convolution_img/stride.png?raw=true)\n",
    "\n"
   ]
  },
  {
   "cell_type": "markdown",
   "metadata": {
    "id": "ujUdy_s9gLQ9"
   },
   "source": [
    "\n",
    "# Convolución sobre todo el volumen:\n",
    "\n",
    "![volumen](https://github.com/hernansalinas/Curso_aprendizaje_estadistico/blob/main/Sesiones/convolution_img/rgb_volume.png?raw=true)\n",
    "\n",
    "\n",
    "## Multiples filtros sobre el volumen:\n",
    "\n",
    "\n",
    "![multiples filtros](https://github.com/hernansalinas/Curso_aprendizaje_estadistico/blob/main/Sesiones/convolution_img/rgb_two_filter.png?raw=true)\n",
    "\n",
    "Input= nxnxnc\n",
    "\n",
    "Filter= fxfxnc\n",
    "\n",
    "Output= n-f+1 x  n-f+1  x n'c\n",
    "\n",
    "nc= numero de canales\n",
    "\n",
    "n'c= el numero de filtros\n",
    "\n",
    "\n",
    "\n",
    "\n",
    "\n",
    "REf: https://towardsdatascience.com/beginners-guide-to-understanding-convolutional-neural-networks-ae9ed58bb17d\n"
   ]
  },
  {
   "cell_type": "code",
   "execution_count": null,
   "metadata": {
    "id": "qdPOKnDDJTM0"
   },
   "outputs": [],
   "source": []
  }
 ],
 "metadata": {
  "colab": {
   "authorship_tag": "ABX9TyOp8XxSx/RJXSyJ2Nb445ZQ",
   "provenance": []
  },
  "kernelspec": {
   "display_name": "Python 3 (ipykernel)",
   "language": "python",
   "name": "python3"
  },
  "language_info": {
   "codemirror_mode": {
    "name": "ipython",
    "version": 3
   },
   "file_extension": ".py",
   "mimetype": "text/x-python",
   "name": "python",
   "nbconvert_exporter": "python",
   "pygments_lexer": "ipython3",
   "version": "3.10.9"
  }
 },
 "nbformat": 4,
 "nbformat_minor": 1
}
