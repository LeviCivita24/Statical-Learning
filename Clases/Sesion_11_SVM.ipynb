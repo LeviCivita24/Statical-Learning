{
  "nbformat": 4,
  "nbformat_minor": 0,
  "metadata": {
    "colab": {
      "name": "Sesion_11_SVM.ipynb",
      "provenance": [],
      "collapsed_sections": []
    },
    "kernelspec": {
      "name": "python3",
      "display_name": "Python 3"
    },
    "language_info": {
      "name": "python"
    }
  },
  "cells": [
    {
      "cell_type": "markdown",
      "source": [
        "# Maquinas de soporte vectorial, (*Support vector machine SVM*)\n",
        "\n",
        "\n",
        "\n",
        "\n",
        "\n",
        "Las maquinas de soporte vectorial se pueden definir como:\n",
        "\n",
        "- Clasfiicar lineal de orden maximo \n",
        "- Clasificador lineal en un espacio N-dimensional\n",
        "\n",
        "Entendamos la intuición detras de estos dos conceptos. \n",
        "\n",
        "Nuestra funcion de coste esta definda como sigue:\n",
        "\n",
        "\\begin{equation}\n",
        "J(\\theta)=\\frac{1}{m}\\sum_{i=1}^{m} [-y^{(i)}\\log(h^{(i)}) + (1-y^{(i)})\\log(1-h^{(i)})]  +  \\frac{\\lambda}{2m} \\sum_{j=1}^{n}\\theta_j^2\n",
        "\\end{equation}\n",
        "\n",
        "\n",
        "Si suponemos que $y=1$ y $y=0$ tenemos para estos dos casos que:\n",
        "\n",
        "\n",
        "\n",
        "\n"
      ],
      "metadata": {
        "id": "3mtB1S4HAhda"
      }
    },
    {
      "cell_type": "code",
      "source": [
        "#Cost function\n",
        "h = lambda z: 1/(1+np.exp(-z))\n",
        "J1 = lambda z,y: -y*np.log(h(z))\n",
        "J2 = lambda z,y: -(1-y)*np.log(1-h(z))\n",
        "\n",
        "# Ref metricas\n",
        "m1 = lambda z: z-1 \n",
        "\n",
        "\n",
        "\n",
        "#===================\n",
        "z1 = np.linspace(-2, 10)\n",
        "z2 = np.linspace(-10, 2)\n",
        "plt.plot(z1,J1(z1,1), label=\"y=1\")\n",
        "\n",
        "plt.plot(z2,J2(z2,0), label=\"y=0\")\n",
        "plt.legend()\n",
        "plt.xlabel(\"Z\")\n",
        "plt.ylabel(\"Cost function\")"
      ],
      "metadata": {
        "colab": {
          "base_uri": "https://localhost:8080/",
          "height": 296
        },
        "id": "kg6mjEy-Zi64",
        "outputId": "51173e87-7e08-43de-a74d-706e5f574ba4"
      },
      "execution_count": null,
      "outputs": [
        {
          "output_type": "execute_result",
          "data": {
            "text/plain": [
              "Text(0, 0.5, 'Cost function')"
            ]
          },
          "metadata": {},
          "execution_count": 53
        },
        {
          "output_type": "display_data",
          "data": {
            "image/png": "[encoded data removed]",
            "text/plain": [
              "<Figure size 432x288 with 1 Axes>"
            ]
          },
          "metadata": {
            "needs_background": "light"
          }
        }
      ]
    },
    {
      "cell_type": "markdown",
      "source": [
        "- Para $y = 1$ se cumple que para $Z=\\theta^T X\\geq 0$ la clasificacion será tipo 1 \n",
        "\n",
        "- Para $y = 0$ se cumple que para $Z=\\theta^T X < 0 $ la clasificación será tipo 0\n",
        "\n",
        "Las métricas anteriores pueden ser definidas en términos de métricas que permitan clasificar en los siguiente intervalos, segun la curva roja y negra definida en la gráfica:\n",
        "\n",
        "- Para $y = 1$ se cumple que para $Z=\\theta^T X\\geq 1$ la clasificacion será tipo 1 \n",
        "\n",
        "- Para $y = 0$ se cumple que para $Z=\\theta^T X < 1 $ la clasificación será tipo 0\n"
      ],
      "metadata": {
        "id": "M3EBR0N7bCec"
      }
    },
    {
      "cell_type": "markdown",
      "source": [
        "Si interpretamos la funcion $J(\\theta)$ como:\n",
        "\n",
        "$J(\\theta)=A+\\lambda B$, podemos rescribir la anterior expresión como:\n",
        "\n",
        "$J(\\theta)=C A'+B'$ \n",
        "\n",
        "Siendo $C=\\frac{1}{\\lambda}$, el inverso del parametros de regularación descrito en las sesiones anteriores.\n",
        "\n",
        "\n",
        "Nuestro objetivo sera mínimizar la función  $\\min [J(\\theta))] =\\min[ C A'+B']$, \n",
        "\n",
        "El termino B' de la anterior expresión puede ser expresado como sigue:\n",
        " \n",
        " $B' = \\frac{1}{2}\\sum_{j=1}^{n}\\theta_j^2=\\frac{1}{2} (\\theta_1^2 + \\theta_2^2+...+\\theta_n^2)=\\frac{1}{2}||\\theta||^2$\n",
        "\n",
        "## Interpretacion geométrica\n",
        "\n",
        "Supongamos que tenemos dos caracteristicas, en nuestro sistema, de esta manera tenemos que:\n",
        "\n",
        "$\\theta^T X= [\\theta_1, \\theta_2]  [x1,x2]$\n",
        "\n",
        "Continuar con los aspectos teóricos...\n",
        "\n",
        "\n",
        "\n",
        "References\n",
        "[1] https://www.cienciadedatos.net/documentos/34_maquinas_de_vector_soporte_support_vector_machines\n"
      ],
      "metadata": {
        "id": "H18UNJZFcg6A"
      }
    },
    {
      "cell_type": "code",
      "source": [
        "import numpy as np\n",
        "import matplotlib.pylab as plt\n",
        "from sklearn.datasets import make_moons\n",
        "from sklearn.datasets import make_circles\n",
        "from sklearn.datasets import make_blobs\n",
        "from sklearn.datasets import make_classification\n",
        "from sklearn.linear_model import LogisticRegression\n",
        "from sklearn.svm import SVC\n",
        "from sklearn.model_selection import GridSearchCV\n",
        "\n",
        "# Libraries for draw contours\n",
        "def make_meshgrid(x, y, h=0.02):\n",
        "    \"\"\"Create a mesh of points to plot in\n",
        "\n",
        "    Parameters\n",
        "    ----------\n",
        "    x: data to base x-axis meshgrid on\n",
        "    y: data to base y-axis meshgrid on\n",
        "    h: stepsize for meshgrid, optional\n",
        "\n",
        "    Returns\n",
        "    -------\n",
        "    xx, yy : ndarray\n",
        "    \"\"\"\n",
        "    x_min, x_max = x.min() - 1, x.max() + 1\n",
        "    y_min, y_max = y.min() - 1, y.max() + 1\n",
        "    xx, yy = np.meshgrid(np.arange(x_min, x_max, h), np.arange(y_min, y_max, h))\n",
        "    return xx, yy\n",
        "\n",
        "\n",
        "def plot_contours(ax, clf, xx, yy, **params):\n",
        "    \"\"\"Plot the decision boundaries for a classifier.\n",
        "\n",
        "    Parameters\n",
        "    ----------\n",
        "    ax: matplotlib axes object\n",
        "    clf: a classifier\n",
        "    xx: meshgrid ndarray\n",
        "    yy: meshgrid ndarray\n",
        "    params: dictionary of params to pass to contourf, optional\n",
        "    \"\"\"\n",
        "    Z = clf.predict(np.c_[xx.ravel(), yy.ravel()])\n",
        "    Z = Z.reshape(xx.shape)\n",
        "    out = ax.contourf(xx, yy, Z, **params)\n",
        "    return out\n",
        "\n",
        "\n",
        "def plot_contoursExact(ax, xx, yy, **params):\n",
        "    \"\"\"Plot the decision boundaries for a classifier.\n",
        "\n",
        "    Parameters\n",
        "    ----------\n",
        "    ax: matplotlib axes object\n",
        "    clf: a classifier\n",
        "    xx: meshgrid ndarray\n",
        "    yy: meshgrid ndarray\n",
        "    params: dictionary of params to pass to contourf, optional\n",
        "    \"\"\"\n",
        "    Z = clf.predict(np.c_[xx.ravel(), yy.ravel()])\n",
        "    Z = Z.reshape(xx.shape)\n",
        "    out = ax.contourf(xx, yy, Z, **params)\n",
        "    return out\n"
      ],
      "metadata": {
        "id": "eh6C_5X3AiRG"
      },
      "execution_count": null,
      "outputs": []
    },
    {
      "cell_type": "code",
      "source": [
        "# Dataset Toys References\n",
        "# https://scikit-learn.org/stable/datasets/toy_dataset.html\n",
        "# https://matplotlib.org/stable/gallery/subplots_axes_and_figures/subplots_demo.html\n",
        "# Dataset sinteticos\n",
        "X0, y0 = make_classification(\n",
        "    n_features=2, n_redundant=0, n_informative=2, random_state=1, \n",
        "    n_clusters_per_class=1\n",
        ")\n",
        "X1, y1 = make_moons(n_samples=100, noise=0.15, shuffle=True,  random_state=1)\n",
        "X2, y2 = make_circles(n_samples=100, noise=0.05, shuffle=True,  random_state=1)\n",
        "X3, y3 = make_blobs(n_samples=500, centers=3, n_features=2,shuffle=True, \n",
        "                    random_state=10)\n",
        "\n",
        "fig, axs = plt.subplots(2,2)\n",
        "\n",
        "axs[0, 0].plot(X0[:,0][y0==0],X0[:,1][y0==0],\"ro\", alpha=0.5)\n",
        "axs[0, 0].plot(X0[:,0][y0==1],X0[:,1][y0==1],\"bo\", alpha=0.5)\n",
        "\n",
        "# Dataset a moons\n",
        "axs[0, 1].plot(X1[:,0][y1==0],X1[:,1][y1==0],\"ro\", alpha=0.5)\n",
        "axs[0, 1].plot(X1[:,0][y1==1],X1[:,1][y1==1],\"bo\", alpha=0.5)\n",
        "\n",
        "# Dataset circles\n",
        "axs[1, 0].plot(X2[:,0][y2==0],X2[:,1][y2==0],\"ro\", alpha=0.5)\n",
        "axs[1, 0].plot(X2[:,0][y2==1],X2[:,1][y2==1],\"bo\", alpha=0.5)\n",
        "\n",
        "# Dataset circles\n",
        "axs[1, 1].plot(X3[:,0][y3==0],X3[:,1][y3==0],\"ro\", alpha=0.5)\n",
        "axs[1, 1].plot(X3[:,0][y3==1],X3[:,1][y3==1],\"bo\", alpha=0.5)\n",
        "axs[1, 1].plot(X3[:,0][y3==2],X3[:,1][y3==2],\"go\", alpha=0.5)\n",
        "\n"
      ],
      "metadata": {
        "colab": {
          "base_uri": "https://localhost:8080/",
          "height": 282
        },
        "id": "mAm2pfKHCMA5",
        "outputId": "d07003ff-2eb9-4567-c6bf-9cdfe04006a5"
      },
      "execution_count": null,
      "outputs": [
        {
          "output_type": "execute_result",
          "data": {
            "text/plain": [
              "[<matplotlib.lines.Line2D at 0x7f8a33581950>]"
            ]
          },
          "metadata": {},
          "execution_count": 31
        },
        {
          "output_type": "display_data",
          "data": {
            "image/png": "[encoded data removed]",
            "text/plain": [
              "<Figure size 432x288 with 4 Axes>"
            ]
          },
          "metadata": {
            "needs_background": "light"
          }
        }
      ]
    },
    {
      "cell_type": "code",
      "source": [
        "# Based on :\n",
        "# https://rramosp.github.io/ai4eng.v1.20211.udea/content/NOTES%2003.03%20-%20SVM%20AND%20FEATURE%20TRANSFORMATION.html"
      ],
      "metadata": {
        "id": "K1zgIVybCa16"
      },
      "execution_count": null,
      "outputs": []
    },
    {
      "cell_type": "code",
      "source": [
        "X, y = make_circles(n_samples=200, noise=0.1, shuffle=True,  random_state=1)\n",
        "\n",
        "plt.plot(X[:,0][y==0],X[:,1][y==0],\"ro\", alpha=0.5)\n",
        "plt.plot(X[:,0][y==1],X[:,1][y==1],\"bo\", alpha=0.5)"
      ],
      "metadata": {
        "colab": {
          "base_uri": "https://localhost:8080/",
          "height": 282
        },
        "id": "QeGCBy_NI8cG",
        "outputId": "e8a0e844-d143-4fa7-b631-9a2f0de4b10a"
      },
      "execution_count": null,
      "outputs": [
        {
          "output_type": "execute_result",
          "data": {
            "text/plain": [
              "[<matplotlib.lines.Line2D at 0x7f8a34d03310>]"
            ]
          },
          "metadata": {},
          "execution_count": 4
        },
        {
          "output_type": "display_data",
          "data": {
            "image/png": "[encoded data removed]",
            "text/plain": [
              "<Figure size 432x288 with 1 Axes>"
            ]
          },
          "metadata": {
            "needs_background": "light"
          }
        }
      ]
    },
    {
      "cell_type": "code",
      "source": [
        "clf = SVC(gamma = 0.10) #Complexity of algorithm \n",
        "clf.fit(X, y)\n",
        "\n",
        "#Countour plot\n",
        "fig, ax = plt.subplots()\n",
        "X0, X1 = X[:, 0], X[:, 1]\n",
        "xx, yy = make_meshgrid(X0, X1)\n",
        "plot_contours(ax, clf, xx, yy, cmap=plt.cm.coolwarm, alpha=0.8)\n",
        "plt.plot(X[y==0][:,0],X[y==0][:,1],\"bo\", alpha=1)\n",
        "plt.plot(X[y==1][:,0],X[y==1][:,1],\"ro\", alpha=1)\n",
        "print(f\"Training error:{clf.score(X, y):.3f}\")\n"
      ],
      "metadata": {
        "colab": {
          "base_uri": "https://localhost:8080/",
          "height": 282
        },
        "id": "QLVNZZ8KNLb5",
        "outputId": "c808713a-d2de-4682-9dcf-daced322c56d"
      },
      "execution_count": null,
      "outputs": [
        {
          "output_type": "stream",
          "name": "stdout",
          "text": [
            "Training error:0.635\n"
          ]
        },
        {
          "output_type": "display_data",
          "data": {
            "image/png": "[encoded data removed]",
            "text/plain": [
              "<Figure size 432x288 with 1 Axes>"
            ]
          },
          "metadata": {
            "needs_background": "light"
          }
        }
      ]
    },
    {
      "cell_type": "markdown",
      "source": [
        "# Grid Search of parameter in SVM\n",
        "\n",
        "Grid-search is used to find the optimal hyperparameters of a model which results in the most ‘accurate’ predictions.\n",
        "https://towardsdatascience.com/grid-search-for-model-tuning-3319b259367e"
      ],
      "metadata": {
        "id": "IVPYFpygOgzV"
      }
    },
    {
      "cell_type": "code",
      "source": [
        "#https://scikit-learn.org/stable/modules/generated/sklearn.model_selection.GridSearchCV.html\n",
        "from sklearn.model_selection import GridSearchCV\n",
        "\n",
        "\n",
        "X, y = make_circles(n_samples=200, noise=0.1, shuffle=True,  random_state=1)\n",
        "\n",
        "plt.plot(X[:,0][y==0],X[:,1][y==0],\"ro\", alpha=0.5)\n",
        "plt.plot(X[:,0][y==1],X[:,1][y==1],\"bo\", alpha=0.5)"
      ],
      "metadata": {
        "colab": {
          "base_uri": "https://localhost:8080/",
          "height": 282
        },
        "id": "wxzF0V-CRNtD",
        "outputId": "833eddec-14a0-4ec9-fa0b-5bf5cec352a0"
      },
      "execution_count": null,
      "outputs": [
        {
          "output_type": "execute_result",
          "data": {
            "text/plain": [
              "[<matplotlib.lines.Line2D at 0x7f8a349f4250>]"
            ]
          },
          "metadata": {},
          "execution_count": 6
        },
        {
          "output_type": "display_data",
          "data": {
            "image/png": "[encoded data removed]",
            "text/plain": [
              "<Figure size 432x288 with 1 Axes>"
            ]
          },
          "metadata": {
            "needs_background": "light"
          }
        }
      ]
    },
    {
      "cell_type": "code",
      "source": [
        "parameters = {'kernel':('linear', 'rbf'), 'C':[1, 10]}\n",
        "parameters = {'C': [0.1,1, 10, 100], 'gamma': [1,0.1,0.01,0.001],'kernel': ['rbf', 'poly', 'sigmoid']}\n",
        "\n",
        "clf = GridSearchCV(estimator=SVC(),\n",
        "             param_grid = parameters)\n",
        "\n",
        "clf.fit(X, y)\n",
        "sorted(clf.cv_results_.keys())"
      ],
      "metadata": {
        "colab": {
          "base_uri": "https://localhost:8080/"
        },
        "id": "vlZCTfBkKtdI",
        "outputId": "7b6be882-fe82-4982-de98-28b787ee13df"
      },
      "execution_count": null,
      "outputs": [
        {
          "output_type": "execute_result",
          "data": {
            "text/plain": [
              "['mean_fit_time',\n",
              " 'mean_score_time',\n",
              " 'mean_test_score',\n",
              " 'param_C',\n",
              " 'param_gamma',\n",
              " 'param_kernel',\n",
              " 'params',\n",
              " 'rank_test_score',\n",
              " 'split0_test_score',\n",
              " 'split1_test_score',\n",
              " 'split2_test_score',\n",
              " 'split3_test_score',\n",
              " 'split4_test_score',\n",
              " 'std_fit_time',\n",
              " 'std_score_time',\n",
              " 'std_test_score']"
            ]
          },
          "metadata": {},
          "execution_count": 7
        }
      ]
    },
    {
      "cell_type": "code",
      "source": [
        "clf.cv_results_"
      ],
      "metadata": {
        "colab": {
          "base_uri": "https://localhost:8080/"
        },
        "id": "Os8epCfESHpm",
        "outputId": "e3c06c75-fe93-4a42-aa5f-f50db6d90da0"
      },
      "execution_count": null,
      "outputs": [
        {
          "output_type": "execute_result",
          "data": {
            "text/plain": [
              "{'mean_fit_time': array([0.00206857, 0.00133414, 0.002145  , 0.00184765, 0.00131226,\n",
              "        0.00177274, 0.00177774, 0.00132613, 0.00178552, 0.00216789,\n",
              "        0.0015471 , 0.00219789, 0.00242796, 0.00140429, 0.00226235,\n",
              "        0.00185962, 0.00131516, 0.0017982 , 0.00191288, 0.00132165,\n",
              "        0.0017786 , 0.00210128, 0.00132256, 0.00177875, 0.00141177,\n",
              "        0.00170116, 0.00228949, 0.00174408, 0.00135508, 0.00191026,\n",
              "        0.00188537, 0.00132656, 0.00182943, 0.00191078, 0.00135727,\n",
              "        0.00183592, 0.00172868, 0.00411572, 0.00180178, 0.00154214,\n",
              "        0.00128736, 0.00196505, 0.00184169, 0.00172501, 0.00232635,\n",
              "        0.00182514, 0.00139742, 0.00196843]),\n",
              " 'mean_score_time': array([0.00094509, 0.00056295, 0.00075049, 0.00090499, 0.00057168,\n",
              "        0.00067277, 0.00086918, 0.00056782, 0.00071511, 0.00105624,\n",
              "        0.00064454, 0.00091519, 0.00112543, 0.00056086, 0.00075355,\n",
              "        0.00091472, 0.00056481, 0.00069489, 0.00093093, 0.0005722 ,\n",
              "        0.0006752 , 0.00095043, 0.00056782, 0.00070267, 0.000664  ,\n",
              "        0.00056734, 0.00107045, 0.0008214 , 0.00061026, 0.00069866,\n",
              "        0.00095572, 0.00059428, 0.00069923, 0.00090742, 0.00056558,\n",
              "        0.00067677, 0.00058112, 0.00057974, 0.00058169, 0.00066299,\n",
              "        0.0005559 , 0.00066509, 0.0008719 , 0.00080714, 0.00087495,\n",
              "        0.00087662, 0.00057192, 0.00074143]),\n",
              " 'mean_test_score': array([0.535, 0.545, 0.375, 0.45 , 0.555, 0.37 , 0.41 , 0.555, 0.37 ,\n",
              "        0.37 , 0.555, 0.37 , 0.84 , 0.495, 0.485, 0.455, 0.555, 0.37 ,\n",
              "        0.41 , 0.555, 0.37 , 0.37 , 0.555, 0.37 , 0.865, 0.485, 0.52 ,\n",
              "        0.835, 0.555, 0.385, 0.42 , 0.555, 0.37 , 0.37 , 0.555, 0.37 ,\n",
              "        0.845, 0.48 , 0.5  , 0.865, 0.545, 0.39 , 0.445, 0.555, 0.385,\n",
              "        0.38 , 0.555, 0.37 ]),\n",
              " 'param_C': masked_array(data=[0.1, 0.1, 0.1, 0.1, 0.1, 0.1, 0.1, 0.1, 0.1, 0.1, 0.1,\n",
              "                    0.1, 1, 1, 1, 1, 1, 1, 1, 1, 1, 1, 1, 1, 10, 10, 10,\n",
              "                    10, 10, 10, 10, 10, 10, 10, 10, 10, 100, 100, 100, 100,\n",
              "                    100, 100, 100, 100, 100, 100, 100, 100],\n",
              "              mask=[False, False, False, False, False, False, False, False,\n",
              "                    False, False, False, False, False, False, False, False,\n",
              "                    False, False, False, False, False, False, False, False,\n",
              "                    False, False, False, False, False, False, False, False,\n",
              "                    False, False, False, False, False, False, False, False,\n",
              "                    False, False, False, False, False, False, False, False],\n",
              "        fill_value='?',\n",
              "             dtype=object),\n",
              " 'param_gamma': masked_array(data=[1, 1, 1, 0.1, 0.1, 0.1, 0.01, 0.01, 0.01, 0.001, 0.001,\n",
              "                    0.001, 1, 1, 1, 0.1, 0.1, 0.1, 0.01, 0.01, 0.01, 0.001,\n",
              "                    0.001, 0.001, 1, 1, 1, 0.1, 0.1, 0.1, 0.01, 0.01, 0.01,\n",
              "                    0.001, 0.001, 0.001, 1, 1, 1, 0.1, 0.1, 0.1, 0.01,\n",
              "                    0.01, 0.01, 0.001, 0.001, 0.001],\n",
              "              mask=[False, False, False, False, False, False, False, False,\n",
              "                    False, False, False, False, False, False, False, False,\n",
              "                    False, False, False, False, False, False, False, False,\n",
              "                    False, False, False, False, False, False, False, False,\n",
              "                    False, False, False, False, False, False, False, False,\n",
              "                    False, False, False, False, False, False, False, False],\n",
              "        fill_value='?',\n",
              "             dtype=object),\n",
              " 'param_kernel': masked_array(data=['rbf', 'poly', 'sigmoid', 'rbf', 'poly', 'sigmoid',\n",
              "                    'rbf', 'poly', 'sigmoid', 'rbf', 'poly', 'sigmoid',\n",
              "                    'rbf', 'poly', 'sigmoid', 'rbf', 'poly', 'sigmoid',\n",
              "                    'rbf', 'poly', 'sigmoid', 'rbf', 'poly', 'sigmoid',\n",
              "                    'rbf', 'poly', 'sigmoid', 'rbf', 'poly', 'sigmoid',\n",
              "                    'rbf', 'poly', 'sigmoid', 'rbf', 'poly', 'sigmoid',\n",
              "                    'rbf', 'poly', 'sigmoid', 'rbf', 'poly', 'sigmoid',\n",
              "                    'rbf', 'poly', 'sigmoid', 'rbf', 'poly', 'sigmoid'],\n",
              "              mask=[False, False, False, False, False, False, False, False,\n",
              "                    False, False, False, False, False, False, False, False,\n",
              "                    False, False, False, False, False, False, False, False,\n",
              "                    False, False, False, False, False, False, False, False,\n",
              "                    False, False, False, False, False, False, False, False,\n",
              "                    False, False, False, False, False, False, False, False],\n",
              "        fill_value='?',\n",
              "             dtype=object),\n",
              " 'params': [{'C': 0.1, 'gamma': 1, 'kernel': 'rbf'},\n",
              "  {'C': 0.1, 'gamma': 1, 'kernel': 'poly'},\n",
              "  {'C': 0.1, 'gamma': 1, 'kernel': 'sigmoid'},\n",
              "  {'C': 0.1, 'gamma': 0.1, 'kernel': 'rbf'},\n",
              "  {'C': 0.1, 'gamma': 0.1, 'kernel': 'poly'},\n",
              "  {'C': 0.1, 'gamma': 0.1, 'kernel': 'sigmoid'},\n",
              "  {'C': 0.1, 'gamma': 0.01, 'kernel': 'rbf'},\n",
              "  {'C': 0.1, 'gamma': 0.01, 'kernel': 'poly'},\n",
              "  {'C': 0.1, 'gamma': 0.01, 'kernel': 'sigmoid'},\n",
              "  {'C': 0.1, 'gamma': 0.001, 'kernel': 'rbf'},\n",
              "  {'C': 0.1, 'gamma': 0.001, 'kernel': 'poly'},\n",
              "  {'C': 0.1, 'gamma': 0.001, 'kernel': 'sigmoid'},\n",
              "  {'C': 1, 'gamma': 1, 'kernel': 'rbf'},\n",
              "  {'C': 1, 'gamma': 1, 'kernel': 'poly'},\n",
              "  {'C': 1, 'gamma': 1, 'kernel': 'sigmoid'},\n",
              "  {'C': 1, 'gamma': 0.1, 'kernel': 'rbf'},\n",
              "  {'C': 1, 'gamma': 0.1, 'kernel': 'poly'},\n",
              "  {'C': 1, 'gamma': 0.1, 'kernel': 'sigmoid'},\n",
              "  {'C': 1, 'gamma': 0.01, 'kernel': 'rbf'},\n",
              "  {'C': 1, 'gamma': 0.01, 'kernel': 'poly'},\n",
              "  {'C': 1, 'gamma': 0.01, 'kernel': 'sigmoid'},\n",
              "  {'C': 1, 'gamma': 0.001, 'kernel': 'rbf'},\n",
              "  {'C': 1, 'gamma': 0.001, 'kernel': 'poly'},\n",
              "  {'C': 1, 'gamma': 0.001, 'kernel': 'sigmoid'},\n",
              "  {'C': 10, 'gamma': 1, 'kernel': 'rbf'},\n",
              "  {'C': 10, 'gamma': 1, 'kernel': 'poly'},\n",
              "  {'C': 10, 'gamma': 1, 'kernel': 'sigmoid'},\n",
              "  {'C': 10, 'gamma': 0.1, 'kernel': 'rbf'},\n",
              "  {'C': 10, 'gamma': 0.1, 'kernel': 'poly'},\n",
              "  {'C': 10, 'gamma': 0.1, 'kernel': 'sigmoid'},\n",
              "  {'C': 10, 'gamma': 0.01, 'kernel': 'rbf'},\n",
              "  {'C': 10, 'gamma': 0.01, 'kernel': 'poly'},\n",
              "  {'C': 10, 'gamma': 0.01, 'kernel': 'sigmoid'},\n",
              "  {'C': 10, 'gamma': 0.001, 'kernel': 'rbf'},\n",
              "  {'C': 10, 'gamma': 0.001, 'kernel': 'poly'},\n",
              "  {'C': 10, 'gamma': 0.001, 'kernel': 'sigmoid'},\n",
              "  {'C': 100, 'gamma': 1, 'kernel': 'rbf'},\n",
              "  {'C': 100, 'gamma': 1, 'kernel': 'poly'},\n",
              "  {'C': 100, 'gamma': 1, 'kernel': 'sigmoid'},\n",
              "  {'C': 100, 'gamma': 0.1, 'kernel': 'rbf'},\n",
              "  {'C': 100, 'gamma': 0.1, 'kernel': 'poly'},\n",
              "  {'C': 100, 'gamma': 0.1, 'kernel': 'sigmoid'},\n",
              "  {'C': 100, 'gamma': 0.01, 'kernel': 'rbf'},\n",
              "  {'C': 100, 'gamma': 0.01, 'kernel': 'poly'},\n",
              "  {'C': 100, 'gamma': 0.01, 'kernel': 'sigmoid'},\n",
              "  {'C': 100, 'gamma': 0.001, 'kernel': 'rbf'},\n",
              "  {'C': 100, 'gamma': 0.001, 'kernel': 'poly'},\n",
              "  {'C': 100, 'gamma': 0.001, 'kernel': 'sigmoid'}],\n",
              " 'rank_test_score': array([19, 17, 36, 27,  6, 37, 30,  6, 37, 37,  6, 37,  4, 22, 23, 26,  6,\n",
              "        37, 30,  6, 37, 37,  6, 37,  1, 23, 20,  5,  6, 33, 29,  6, 37, 37,\n",
              "         6, 37,  3, 25, 21,  1, 17, 32, 28,  6, 33, 35,  6, 37],\n",
              "       dtype=int32),\n",
              " 'split0_test_score': array([0.275, 0.525, 0.25 , 0.3  , 0.575, 0.25 , 0.25 , 0.575, 0.25 ,\n",
              "        0.25 , 0.575, 0.25 , 0.9  , 0.45 , 0.425, 0.275, 0.575, 0.25 ,\n",
              "        0.25 , 0.575, 0.25 , 0.25 , 0.575, 0.25 , 0.9  , 0.325, 0.525,\n",
              "        0.775, 0.575, 0.275, 0.275, 0.575, 0.25 , 0.25 , 0.575, 0.25 ,\n",
              "        0.9  , 0.325, 0.525, 0.925, 0.525, 0.275, 0.3  , 0.575, 0.275,\n",
              "        0.275, 0.575, 0.25 ]),\n",
              " 'split1_test_score': array([0.55 , 0.5  , 0.4  , 0.375, 0.5  , 0.375, 0.375, 0.5  , 0.375,\n",
              "        0.375, 0.5  , 0.375, 0.875, 0.45 , 0.525, 0.425, 0.5  , 0.375,\n",
              "        0.375, 0.5  , 0.375, 0.375, 0.5  , 0.375, 0.875, 0.45 , 0.5  ,\n",
              "        0.875, 0.5  , 0.4  , 0.375, 0.5  , 0.375, 0.375, 0.5  , 0.375,\n",
              "        0.925, 0.45 , 0.45 , 0.875, 0.5  , 0.425, 0.4  , 0.5  , 0.4  ,\n",
              "        0.375, 0.5  , 0.375]),\n",
              " 'split2_test_score': array([0.475, 0.5  , 0.325, 0.375, 0.5  , 0.325, 0.325, 0.5  , 0.325,\n",
              "        0.325, 0.5  , 0.325, 0.75 , 0.35 , 0.55 , 0.375, 0.5  , 0.325,\n",
              "        0.325, 0.5  , 0.325, 0.325, 0.5  , 0.325, 0.725, 0.45 , 0.425,\n",
              "        0.825, 0.5  , 0.325, 0.325, 0.5  , 0.325, 0.325, 0.5  , 0.325,\n",
              "        0.7  , 0.45 , 0.45 , 0.75 , 0.5  , 0.325, 0.375, 0.5  , 0.325,\n",
              "        0.325, 0.5  , 0.325]),\n",
              " 'split3_test_score': array([0.825, 0.575, 0.5  , 0.775, 0.575, 0.525, 0.725, 0.575, 0.525,\n",
              "        0.525, 0.575, 0.525, 0.825, 0.6  , 0.5  , 0.775, 0.575, 0.525,\n",
              "        0.725, 0.575, 0.525, 0.525, 0.575, 0.525, 0.9  , 0.575, 0.6  ,\n",
              "        0.85 , 0.575, 0.525, 0.725, 0.575, 0.525, 0.525, 0.575, 0.525,\n",
              "        0.875, 0.575, 0.55 , 0.875, 0.575, 0.525, 0.725, 0.575, 0.525,\n",
              "        0.525, 0.575, 0.525]),\n",
              " 'split4_test_score': array([0.55 , 0.625, 0.4  , 0.425, 0.625, 0.375, 0.375, 0.625, 0.375,\n",
              "        0.375, 0.625, 0.375, 0.85 , 0.625, 0.425, 0.425, 0.625, 0.375,\n",
              "        0.375, 0.625, 0.375, 0.375, 0.625, 0.375, 0.925, 0.625, 0.55 ,\n",
              "        0.85 , 0.625, 0.4  , 0.4  , 0.625, 0.375, 0.375, 0.625, 0.375,\n",
              "        0.825, 0.6  , 0.525, 0.9  , 0.625, 0.4  , 0.425, 0.625, 0.4  ,\n",
              "        0.4  , 0.625, 0.375]),\n",
              " 'std_fit_time': array([4.98258060e-04, 1.15697184e-04, 1.47676399e-05, 1.12806470e-04,\n",
              "        8.59894873e-06, 2.72885036e-05, 1.31710675e-05, 2.63568046e-05,\n",
              "        1.13863282e-05, 3.79923829e-04, 1.28727929e-04, 5.16469799e-04,\n",
              "        6.73457168e-04, 5.17707705e-05, 1.01321669e-04, 9.34947932e-05,\n",
              "        1.71776574e-05, 1.83439199e-05, 2.41461900e-04, 3.17648715e-05,\n",
              "        6.29172130e-06, 6.04826060e-04, 1.52411955e-05, 1.07617403e-05,\n",
              "        5.03458753e-05, 1.07042816e-04, 4.28722759e-04, 4.31782300e-05,\n",
              "        4.91000127e-05, 8.35848615e-05, 1.48630792e-04, 2.01651948e-05,\n",
              "        5.04984734e-05, 1.35171400e-04, 6.12603815e-05, 1.14898621e-04,\n",
              "        1.64422455e-04, 1.10184680e-03, 5.68245863e-05, 5.73778769e-05,\n",
              "        1.86360992e-05, 1.79204831e-04, 4.44906189e-05, 4.23235499e-04,\n",
              "        5.90832519e-04, 5.77625583e-05, 1.44899852e-04, 3.64501803e-04]),\n",
              " 'std_score_time': array([7.28726689e-05, 2.07467458e-05, 1.40237152e-05, 4.36011199e-05,\n",
              "        1.42823674e-05, 2.10492147e-05, 3.40338158e-05, 6.76806476e-06,\n",
              "        4.20360015e-05, 2.09807613e-04, 3.96330570e-05, 2.02092150e-04,\n",
              "        2.78411109e-04, 1.56454915e-05, 4.18777602e-05, 2.55290973e-05,\n",
              "        1.34945758e-05, 2.43245847e-05, 1.14556949e-04, 1.96396717e-05,\n",
              "        4.48328372e-06, 7.76288257e-05, 1.28202705e-05, 3.19076396e-05,\n",
              "        3.48636122e-05, 1.71214423e-05, 5.96806583e-04, 2.63503337e-05,\n",
              "        6.66796029e-05, 2.11935745e-05, 1.98559024e-05, 1.22544367e-05,\n",
              "        6.48112743e-06, 4.05171314e-05, 1.60201674e-05, 9.61226127e-06,\n",
              "        2.62072236e-05, 9.94819913e-06, 1.76947067e-05, 1.82270341e-05,\n",
              "        2.07375378e-05, 1.36175209e-05, 3.87853611e-05, 1.93202954e-04,\n",
              "        2.08876633e-04, 3.43803890e-05, 1.42105474e-05, 1.60986919e-04]),\n",
              " 'std_test_score': array([0.17649363, 0.0484768 , 0.083666  , 0.16733201, 0.0484768 ,\n",
              "        0.09      , 0.16401219, 0.0484768 , 0.09      , 0.09      ,\n",
              "        0.0484768 , 0.09      , 0.05147815, 0.1029563 , 0.05147815,\n",
              "        0.16911535, 0.0484768 , 0.09      , 0.16401219, 0.0484768 ,\n",
              "        0.09      , 0.09      , 0.0484768 , 0.09      , 0.0717635 ,\n",
              "        0.10559356, 0.05787918, 0.03391165, 0.0484768 , 0.08455767,\n",
              "        0.1584298 , 0.0484768 , 0.09      , 0.09      , 0.0484768 ,\n",
              "        0.09      , 0.07968689, 0.09924717, 0.041833  , 0.06041523,\n",
              "        0.0484768 , 0.08602325, 0.14611639, 0.0484768 , 0.08455767,\n",
              "        0.0842615 , 0.0484768 , 0.09      ])}"
            ]
          },
          "metadata": {},
          "execution_count": 8
        }
      ]
    },
    {
      "cell_type": "code",
      "source": [
        "clf.best_estimator_"
      ],
      "metadata": {
        "colab": {
          "base_uri": "https://localhost:8080/"
        },
        "id": "TFyWAaigSTem",
        "outputId": "eb7c93bf-4309-4c4e-e614-3eaa0e08ee42"
      },
      "execution_count": null,
      "outputs": [
        {
          "output_type": "execute_result",
          "data": {
            "text/plain": [
              "SVC(C=10, gamma=1)"
            ]
          },
          "metadata": {},
          "execution_count": 9
        }
      ]
    },
    {
      "cell_type": "code",
      "source": [
        "clf.best_params_"
      ],
      "metadata": {
        "colab": {
          "base_uri": "https://localhost:8080/"
        },
        "id": "Rwm2fzrnT76f",
        "outputId": "ecea7f7c-0fec-4612-c85e-b477ca705fbc"
      },
      "execution_count": null,
      "outputs": [
        {
          "output_type": "execute_result",
          "data": {
            "text/plain": [
              "{'C': 10, 'gamma': 1, 'kernel': 'rbf'}"
            ]
          },
          "metadata": {},
          "execution_count": 10
        }
      ]
    },
    {
      "cell_type": "code",
      "source": [
        "clf.best_score_"
      ],
      "metadata": {
        "colab": {
          "base_uri": "https://localhost:8080/"
        },
        "id": "u-cviANiUnrY",
        "outputId": "e29b4851-6a85-4554-9af6-04bf5bfaa7ba"
      },
      "execution_count": null,
      "outputs": [
        {
          "output_type": "execute_result",
          "data": {
            "text/plain": [
              "0.865"
            ]
          },
          "metadata": {},
          "execution_count": 11
        }
      ]
    },
    {
      "cell_type": "code",
      "source": [
        "#Countour plot\n",
        "fig, ax = plt.subplots()\n",
        "X0, X1 = X[:, 0], X[:, 1]\n",
        "xx, yy = make_meshgrid(X0, X1)\n",
        "plot_contours(ax, clf, xx, yy, cmap=plt.cm.coolwarm, alpha=0.8)\n",
        "plt.plot(X[y==0][:,0],X[y==0][:,1],\"bo\", alpha=1)\n",
        "plt.plot(X[y==1][:,0],X[y==1][:,1],\"ro\", alpha=1)\n",
        "print(f\"Training error:{clf.score(X, y):.3f}\")\n"
      ],
      "metadata": {
        "colab": {
          "base_uri": "https://localhost:8080/",
          "height": 282
        },
        "id": "h9W_ZMV2VOuH",
        "outputId": "fc043704-627a-4fe3-b4bd-200e3fa20df9"
      },
      "execution_count": null,
      "outputs": [
        {
          "output_type": "stream",
          "name": "stdout",
          "text": [
            "Training error:0.885\n"
          ]
        },
        {
          "output_type": "display_data",
          "data": {
            "image/png": "[encoded data removed]",
            "text/plain": [
              "<Figure size 432x288 with 1 Axes>"
            ]
          },
          "metadata": {
            "needs_background": "light"
          }
        }
      ]
    },
    {
      "cell_type": "markdown",
      "source": [
        "Tarea 11.1 \n",
        "1. Implementar un SVM para clasificar los siguientes datasets, para ello se deberá crear un grid search. \n",
        "2. Con los mejores párametros dibujar  las fronteras de clasificación. \n",
        "```\n",
        "X0, y0 = make_classification(\n",
        "    n_features=2, n_redundant=0, n_informative=2, random_state=1, \n",
        "    n_clusters_per_class=1\n",
        ")\n",
        "X1, y1 = make_moons(n_samples=100, noise=0.15, shuffle=True,  random_state=1)\n",
        "X3, y3 = make_blobs(n_samples=500, centers=3, n_features=2,shuffle=True, random_state=10)\n",
        "```"
      ],
      "metadata": {
        "id": "-P_G196KW2_k"
      }
    },
    {
      "cell_type": "code",
      "source": [
        "# Dataset Toys References\n",
        "# https://scikit-learn.org/stable/datasets/toy_dataset.html\n",
        "# https://matplotlib.org/stable/gallery/subplots_axes_and_figures/subplots_demo.html\n",
        "# Dataset sinteticos\n",
        "X0, y0 = make_classification(\n",
        "    n_features=2, n_redundant=0, n_informative=2, random_state=1, \n",
        "    n_clusters_per_class=1\n",
        ")\n",
        "X1, y1 = make_moons(n_samples=100, noise=0.15, shuffle=True,  random_state=1)\n",
        "X2, y2 = make_circles(n_samples=100, noise=0.05, shuffle=True,  random_state=1)\n",
        "X3, y3 = make_blobs(n_samples=500, centers=3, n_features=2,shuffle=True, \n",
        "                    random_state=10)\n",
        "\n",
        "fig, axs = plt.subplots(2,2)\n",
        "\n",
        "axs[0, 0].plot(X0[:,0][y0==0],X0[:,1][y0==0],\"ro\", alpha=0.5)\n",
        "axs[0, 0].plot(X0[:,0][y0==1],X0[:,1][y0==1],\"bo\", alpha=0.5)\n",
        "\n",
        "# Dataset a moons\n",
        "axs[0, 1].plot(X1[:,0][y1==0],X1[:,1][y1==0],\"ro\", alpha=0.5)\n",
        "axs[0, 1].plot(X1[:,0][y1==1],X1[:,1][y1==1],\"bo\", alpha=0.5)\n",
        "\n",
        "# Dataset circles\n",
        "axs[1, 1].plot(X3[:,0][y3==0],X3[:,1][y3==0],\"ro\", alpha=0.5)\n",
        "axs[1, 1].plot(X3[:,0][y3==1],X3[:,1][y3==1],\"bo\", alpha=0.5)\n",
        "axs[1, 1].plot(X3[:,0][y3==2],X3[:,1][y3==2],\"go\", alpha=0.5)\n",
        "\n"
      ],
      "metadata": {
        "colab": {
          "base_uri": "https://localhost:8080/",
          "height": 282
        },
        "id": "rVV1oi89XW32",
        "outputId": "2a9736ba-fd05-4878-dea3-37240d3e6f99"
      },
      "execution_count": null,
      "outputs": [
        {
          "output_type": "execute_result",
          "data": {
            "text/plain": [
              "[<matplotlib.lines.Line2D at 0x7f8a333191d0>]"
            ]
          },
          "metadata": {},
          "execution_count": 33
        },
        {
          "output_type": "display_data",
          "data": {
            "image/png": "[encoded data removed]",
            "text/plain": [
              "<Figure size 432x288 with 4 Axes>"
            ]
          },
          "metadata": {
            "needs_background": "light"
          }
        }
      ]
    },
    {
      "cell_type": "code",
      "source": [
        ""
      ],
      "metadata": {
        "id": "a39d6xRHXsC7"
      },
      "execution_count": null,
      "outputs": []
    }
  ]
}